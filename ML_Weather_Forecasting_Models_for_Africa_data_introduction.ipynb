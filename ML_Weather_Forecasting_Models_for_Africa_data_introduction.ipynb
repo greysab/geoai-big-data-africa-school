{
 "cells": [
  {
   "cell_type": "markdown",
   "metadata": {
    "id": "vkYiz7Ai8I22"
   },
   "source": [
    "![](https://lh3.googleusercontent.com/url?sa=i&url=https%3A%2F%2Faihub.org%2F2024%2F05%2F15%2Fintroducing-africlimate-ai%2F&psig=AOvVaw3Kq4dEgmPFIA9-UeqWb4lf&ust=1724598696792000&source=images&cd=vfe&opi=89978449&ved=0CBQQjRxqFwoTCKi70_f0jYgDFQAAAAAdAAAAABAE)"
   ]
  },
  {
   "cell_type": "markdown",
   "metadata": {
    "id": "S46PAGBn9thg"
   },
   "source": [
    "![](https://www.sarao.ac.za/wp-content/uploads/2024/07/geo-ai-africa-logo.jpg)"
   ]
  },
  {
   "cell_type": "markdown",
   "metadata": {
    "id": "fAhHnfdT_Ce_"
   },
   "source": [
    "A project proposed in the context of the [5th Big Data Africa School](https://www.sarao.ac.za/students/5th-big-data-africa-school/) by Sabrina Amrouche on behalf of the GeoAI-Africa community.\n"
   ]
  },
  {
   "cell_type": "markdown",
   "metadata": {
    "id": "ErSB5rPE8YoE"
   },
   "source": []
  },
  {
   "cell_type": "markdown",
   "metadata": {
    "id": "OBK2vZb69714"
   },
   "source": [
    "# Benchmarking Reanalysis data with observation data from [TAHMO](https://tahmo.org/)\n",
    "\n",
    "The Trans-African Hydro-Meteorological Observatory (TAHMO) aims to develop a vast network of weather stations across Africa. Current and historic weather data is important for agricultural, climate monitoring, and many hydro-meteorological applications.\n",
    "\n",
    "<div>\n",
    "<img src=\"https://tahmo.org/wp-content/uploads/2015/03/weatherstation_kenya.jpg\" width=\"500\"/>\n",
    "</div>\n",
    "\n",
    "TAHMO’s goal is to install 20,000 on-the-ground sensing stations every 30 km across the African continent, specifically designed to provide rainfall, temperature, and other critical data from robust redundant sensors.\n",
    "\n",
    "The data recorded every five minutes is sent via a cellular network near real time to a server where the data undergoes quality control.\n",
    "\n",
    "**In this tutorial we will be looking at data samples collected over Kenya.**"
   ]
  },
  {
   "cell_type": "markdown",
   "metadata": {
    "id": "TwCzgPK5Hb3E"
   },
   "source": [
    "## Loading Observation data"
   ]
  },
  {
   "cell_type": "code",
   "execution_count": null,
   "metadata": {
    "id": "f65gLcfP9-18"
   },
   "outputs": [],
   "source": [
    "# Run the code below to access cloud data files from the public AfriClimate AI bucket\n",
    "from google.colab import auth\n",
    "import pandas as pd\n",
    "auth.authenticate_user()"
   ]
  },
  {
   "cell_type": "code",
   "execution_count": null,
   "metadata": {
    "colab": {
     "base_uri": "https://localhost:8080/",
     "height": 365
    },
    "id": "9fL3Tjs1h8Ac",
    "outputId": "5d8c98d1-e468-46fb-a534-139222fc587d"
   },
   "outputs": [],
   "source": [
    "# list of all available stations in Kenya, switch stations and see the impact\n",
    "list_kenya_stations=['TA00018', 'TA00025', 'TA00029', 'TA00030', 'TA00057', 'TA00077', 'TA00130', 'TA00141', 'TA00156', 'TA00354']\n",
    "import pandas as pd\n",
    "def get_tahmo_station_data(station_id='TA00025', return_all=False):\n",
    "\n",
    "  # Directly read the specific station data\n",
    "  obs_path = f'gs://africlimateai/tahmo/kenya/{station_id}.csv'\n",
    "  df_data = pd.read_csv(obs_path)\n",
    "\n",
    "  return df_data\n",
    "# we can see two years of hourly data with several variables.\n",
    "selected_station=list_kenya_stations[1]\n",
    "df_data=get_tahmo_station_data(selected_station)\n",
    "df_data.head()"
   ]
  },
  {
   "cell_type": "markdown",
   "metadata": {
    "id": "O5c0kPs5BskF"
   },
   "source": [
    "### Aggregate to daily observations - Try it\n",
    "\n",
    "---\n",
    "\n",
    "\n",
    "How would you convert these hourly measurements to daily ? Try it by completing the following code"
   ]
  },
  {
   "cell_type": "code",
   "execution_count": null,
   "metadata": {
    "id": "6kcFSCOsC1Lg"
   },
   "outputs": [],
   "source": [
    "import pandas as pd\n",
    "df_data['timestamp'] = pd.to_...(df_data['timestamp'])\n",
    "df_data_daily=df_data.set_index(..)\n",
    "df_data_daily.resample(..)"
   ]
  },
  {
   "cell_type": "markdown",
   "metadata": {
    "id": "Y2pbg2UuEsNK"
   },
   "source": [
    "#### Solution"
   ]
  },
  {
   "cell_type": "code",
   "execution_count": null,
   "metadata": {
    "colab": {
     "base_uri": "https://localhost:8080/",
     "height": 309
    },
    "id": "vVzl6Xk9CCtB",
    "outputId": "55ca0410-3c01-454e-bdc4-ce2227536825"
   },
   "outputs": [],
   "source": [
    "# Solution ?\n",
    "import pandas as pd\n",
    "df_data['timestamp'] = pd.to_datetime(df_data['timestamp'])\n",
    "df_data_ts=df_data.set_index('timestamp')\n",
    "df_tahmo_daily=df_data_ts.resample('D').mean()\n",
    "df_tahmo_daily.head()\n",
    "# is this result correct? There is one special column that did not like our transformation. Which is it?\n"
   ]
  },
  {
   "cell_type": "code",
   "execution_count": null,
   "metadata": {
    "colab": {
     "base_uri": "https://localhost:8080/",
     "height": 309
    },
    "id": "EC2IuJ4DCZ-T",
    "outputId": "906ef553-0ad5-424e-ca48-0eee219fc667"
   },
   "outputs": [],
   "source": [
    "# Solution\n",
    "df_tahmo_daily['precipitation (mm)'] = df_data_ts['precipitation (mm)'].resample('D').sum()\n",
    "df_tahmo_daily.head()"
   ]
  },
  {
   "cell_type": "markdown",
   "metadata": {
    "id": "63gqKKAG3dNZ"
   },
   "source": [
    "# ERA5 \n",
    "\n",
    "ERA5 is the latest climate reanalysis produced by ECMWF, providing hourly data on many atmospheric, land-surface and sea-state parameters together with estimates of uncertainty.\n",
    "\n",
    "https://cds.climate.copernicus.eu/datasets/reanalysis-era5-single-levels?tab=overview"
   ]
  },
  {
   "cell_type": "code",
   "execution_count": null,
   "metadata": {},
   "outputs": [],
   "source": [
    "#!pip install -qq gcsfs zarr dask cartopy\n",
    "!pip install -qq zarr cartopy"
   ]
  },
  {
   "cell_type": "code",
   "execution_count": null,
   "metadata": {
    "id": "hnUBtuV6mrHf"
   },
   "outputs": [],
   "source": [
    "# loading ERA5 from WB2\n",
    "import xarray as xr\n",
    "era5 = xr.open_zarr(\n",
    "    'gs://weatherbench2/datasets/era5/1959-2023_01_10-wb13-6h-1440x721_with_derived_variables.zarr')"
   ]
  },
  {
   "cell_type": "code",
   "execution_count": null,
   "metadata": {},
   "outputs": [],
   "source": [
    "era5"
   ]
  }
 ],
 "metadata": {
  "colab": {
   "provenance": []
  },
  "kernelspec": {
   "display_name": "Python 3 (ipykernel)",
   "language": "python",
   "name": "python3"
  },
  "language_info": {
   "codemirror_mode": {
    "name": "ipython",
    "version": 3
   },
   "file_extension": ".py",
   "mimetype": "text/x-python",
   "name": "python",
   "nbconvert_exporter": "python",
   "pygments_lexer": "ipython3",
   "version": "3.9.5"
  }
 },
 "nbformat": 4,
 "nbformat_minor": 1
}
